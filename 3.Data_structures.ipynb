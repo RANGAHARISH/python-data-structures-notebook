{
 "cells": [
  {
   "cell_type": "code",
   "execution_count": 1,
   "id": "3eac99e1-1cbd-4f01-8383-675802566c4f",
   "metadata": {},
   "outputs": [
    {
     "name": "stdout",
     "output_type": "stream",
     "text": [
      "<class 'list'>\n"
     ]
    }
   ],
   "source": [
    "\n",
    "#1.List\n",
    "##Indexing, Slicing, Methods, List Comprehension\n",
    "\n",
    "# Defining a List\n",
    "fruits = [\"apple\",\"banana\",\"orange\",\"cherry\"]\n",
    "print(type(fruits))\n",
    "\n"
   ]
  },
  {
   "cell_type": "code",
   "execution_count": 6,
   "id": "5b1221b3-841b-4d77-a3a7-230d9bc777db",
   "metadata": {},
   "outputs": [
    {
     "name": "stdout",
     "output_type": "stream",
     "text": [
      "apple\n"
     ]
    }
   ],
   "source": [
    "#Indexing\n",
    "fruits = [\"apple\",\"banana\",\"orange\",\"cherry\"]\n",
    "print(fruits[0])# 0 is the index of apple"
   ]
  },
  {
   "cell_type": "code",
   "execution_count": 8,
   "id": "7aab1552-f235-4a21-990c-867df4ac4df0",
   "metadata": {},
   "outputs": [
    {
     "name": "stdout",
     "output_type": "stream",
     "text": [
      "['banana', 'orange', 'cherry']\n"
     ]
    }
   ],
   "source": [
    "#Slicing \n",
    "fruits = [\"apple\",\"banana\",\"orange\",\"cherry\"]\n",
    "print(fruits[1:]) #slicing the list from index 1 to n."
   ]
  },
  {
   "cell_type": "code",
   "execution_count": 9,
   "id": "33d1ac84-42c6-450a-981a-2fbdd8d5c203",
   "metadata": {},
   "outputs": [
    {
     "name": "stdout",
     "output_type": "stream",
     "text": [
      "['apple', 'banana', 'orange', 'cherry', 'grapes']\n"
     ]
    }
   ],
   "source": [
    "#Methods\n",
    "##.append() method\n",
    "fruits = [\"apple\",\"banana\",\"orange\",\"cherry\"]\n",
    "fruits.append(\"grapes\")#the new value is added at the end of the list.\n",
    "print(fruits)"
   ]
  },
  {
   "cell_type": "code",
   "execution_count": 14,
   "id": "d628b29c-6b9c-4a8b-a0e5-84831bc82de8",
   "metadata": {},
   "outputs": [
    {
     "name": "stdout",
     "output_type": "stream",
     "text": [
      "['apple', 'banana', 'ice-apple', 'orange', 'cherry']\n"
     ]
    }
   ],
   "source": [
    "##.insert()\n",
    "fruits = [\"apple\",\"banana\",\"orange\",\"cherry\"]\n",
    "fruits.insert(2,\"ice-apple\") #the new value is added in-between at index[2].\n",
    "print(fruits)"
   ]
  },
  {
   "cell_type": "code",
   "execution_count": 16,
   "id": "af9200cf-c64f-4551-97fe-a2e8d1263945",
   "metadata": {},
   "outputs": [
    {
     "name": "stdout",
     "output_type": "stream",
     "text": [
      "['banana', 'orange', 'cherry']\n"
     ]
    }
   ],
   "source": [
    "##.remove\n",
    "fruits = [\"apple\",\"banana\",\"orange\",\"cherry\"]\n",
    "fruits.remove(\"apple\")# The value \"apple\" will be removed from the list.\n",
    "print(fruits)"
   ]
  },
  {
   "cell_type": "code",
   "execution_count": 29,
   "id": "d2640113-54ac-4f58-ba9d-a7162c6c801d",
   "metadata": {},
   "outputs": [
    {
     "name": "stdout",
     "output_type": "stream",
     "text": [
      "[0, 1, 4, 9, 16]\n"
     ]
    }
   ],
   "source": [
    "##List comprehension\n",
    "### More readable than the traditional loop technique.\n",
    "### Short way to create a new list is by applying a formula to each value in it.\n",
    "square=[x**2 for x in range(5)] \n",
    "print(square) "
   ]
  },
  {
   "cell_type": "code",
   "execution_count": 31,
   "id": "3eee5c1c-6c0f-4669-9552-fb01543946a5",
   "metadata": {},
   "outputs": [
    {
     "name": "stdout",
     "output_type": "stream",
     "text": [
      "<class 'tuple'>\n"
     ]
    }
   ],
   "source": [
    "#2.Tuple\n",
    "##Immutable,Unpacking\n",
    "\n",
    "##defining a tuple\n",
    "names = (\"hari\",\"ram\",\"varun\")\n",
    "print(type(names))"
   ]
  },
  {
   "cell_type": "code",
   "execution_count": 33,
   "id": "3cab6ab5-71e1-427b-a320-0ff90d004497",
   "metadata": {},
   "outputs": [
    {
     "ename": "TypeError",
     "evalue": "'tuple' object does not support item assignment",
     "output_type": "error",
     "traceback": [
      "\u001b[1;31m---------------------------------------------------------------------------\u001b[0m",
      "\u001b[1;31mTypeError\u001b[0m                                 Traceback (most recent call last)",
      "Cell \u001b[1;32mIn[33], line 3\u001b[0m\n\u001b[0;32m      1\u001b[0m \u001b[38;5;66;03m##Immutable\u001b[39;00m\n\u001b[0;32m      2\u001b[0m names \u001b[38;5;241m=\u001b[39m (\u001b[38;5;124m\"\u001b[39m\u001b[38;5;124mhari\u001b[39m\u001b[38;5;124m\"\u001b[39m,\u001b[38;5;124m\"\u001b[39m\u001b[38;5;124mram\u001b[39m\u001b[38;5;124m\"\u001b[39m,\u001b[38;5;124m\"\u001b[39m\u001b[38;5;124mvarun\u001b[39m\u001b[38;5;124m\"\u001b[39m)\n\u001b[1;32m----> 3\u001b[0m names[\u001b[38;5;241m0\u001b[39m]\u001b[38;5;241m=\u001b[39m\u001b[38;5;124m\"\u001b[39m\u001b[38;5;124mraj\u001b[39m\u001b[38;5;124m\"\u001b[39m\n\u001b[0;32m      4\u001b[0m \u001b[38;5;28mprint\u001b[39m(\u001b[38;5;124m\"\u001b[39m\u001b[38;5;124mnames\u001b[39m\u001b[38;5;124m\"\u001b[39m)\n",
      "\u001b[1;31mTypeError\u001b[0m: 'tuple' object does not support item assignment"
     ]
    }
   ],
   "source": [
    "##Immutable\n",
    "names = (\"hari\",\"ram\",\"varun\")\n",
    "names[0]=(\"raj\")\n",
    "print(\"names\")#it gives error because tuple is immutable."
   ]
  },
  {
   "cell_type": "code",
   "execution_count": 35,
   "id": "3123f574-3e41-41ec-a217-3286c21ceb75",
   "metadata": {},
   "outputs": [
    {
     "name": "stdout",
     "output_type": "stream",
     "text": [
      "hari\n"
     ]
    }
   ],
   "source": [
    "##unpacking\n",
    "names = (\"hari\",\"ram\",\"varun\")\n",
    "a,b,c=names\n",
    "print(a)#unpack the data from the tuple."
   ]
  },
  {
   "cell_type": "code",
   "execution_count": 37,
   "id": "ec115d6b-9dbd-44da-96cc-b9b000903419",
   "metadata": {},
   "outputs": [
    {
     "name": "stdout",
     "output_type": "stream",
     "text": [
      "<class 'set'>\n"
     ]
    }
   ],
   "source": [
    "#3.set\n",
    "##Uniqueness,Set Operations\n",
    "\n",
    "##Defining a Set\n",
    "set_example={1,2,3,45}\n",
    "print(type(set_example))"
   ]
  },
  {
   "cell_type": "code",
   "execution_count": 38,
   "id": "23fb327f-cb9a-4818-95fb-d746c5ccc11d",
   "metadata": {},
   "outputs": [
    {
     "name": "stdout",
     "output_type": "stream",
     "text": [
      "{1, 2, 3, 6, 7, 45}\n"
     ]
    }
   ],
   "source": [
    "##Uniqueness\n",
    "set_example = {1,2,2,3,3,45,6,7}\n",
    "print(set_example)#set returns only unique values in sorted order.\n"
   ]
  },
  {
   "cell_type": "code",
   "execution_count": 43,
   "id": "daf04b9b-a762-4ec8-a9bc-372a68ac49ca",
   "metadata": {},
   "outputs": [
    {
     "name": "stdout",
     "output_type": "stream",
     "text": [
      "{1, 2, 3, 4, 5, 6}\n"
     ]
    }
   ],
   "source": [
    "##operations:-Union,Intersection,Difference\n",
    "\n",
    "#union\n",
    "set1={1,2,3,4}\n",
    "set2={3,4,5,6}\n",
    "result=set1.union(set2)\n",
    "print(result) #merge values from both the sets and return unique values as a single set. \n"
   ]
  },
  {
   "cell_type": "code",
   "execution_count": 45,
   "id": "01d19789-6665-4889-acf2-f6f55e9338c5",
   "metadata": {},
   "outputs": [
    {
     "name": "stdout",
     "output_type": "stream",
     "text": [
      "{3, 4}\n"
     ]
    }
   ],
   "source": [
    "#intersection\n",
    "\n",
    "seset1={1,2,3,4}\n",
    "set2={3,4,5,6}\n",
    "result=set1.intersection(set2)\n",
    "print(result) #it combines values from both the sets and returns only common values as a single set."
   ]
  },
  {
   "cell_type": "code",
   "execution_count": 48,
   "id": "cb7b8111-b529-4b2d-84f3-bf68b40896c6",
   "metadata": {},
   "outputs": [
    {
     "name": "stdout",
     "output_type": "stream",
     "text": [
      "{1, 2}\n"
     ]
    }
   ],
   "source": [
    "#difference\n",
    "\n",
    "set1={1,2,3,4}\n",
    "set2={3,4,5,6}\n",
    "result=set1.difference(set2)\n",
    "print(result) #it compares values from both the sets and returns unique values from set1."
   ]
  },
  {
   "cell_type": "code",
   "execution_count": 50,
   "id": "595210ab-80b2-45d4-96c0-9c7538d6e9ee",
   "metadata": {},
   "outputs": [
    {
     "name": "stdout",
     "output_type": "stream",
     "text": [
      "<class 'dict'>\n"
     ]
    }
   ],
   "source": [
    "#4.dictionary \n",
    "##.get(),methods\n",
    "\n",
    "#defining a dictionary\n",
    "details={\"name\":\"harish\",\"age\":20,\"percentage\":90.1}\n",
    "print(type(details))         "
   ]
  },
  {
   "cell_type": "code",
   "execution_count": 54,
   "id": "673c2125-936a-46c5-ba04-cb635936cce5",
   "metadata": {},
   "outputs": [
    {
     "ename": "KeyError",
     "evalue": "'sex'",
     "output_type": "error",
     "traceback": [
      "\u001b[1;31m---------------------------------------------------------------------------\u001b[0m",
      "\u001b[1;31mKeyError\u001b[0m                                  Traceback (most recent call last)",
      "Cell \u001b[1;32mIn[54], line 4\u001b[0m\n\u001b[0;32m      1\u001b[0m \u001b[38;5;66;03m#.get()method\u001b[39;00m\n\u001b[0;32m      2\u001b[0m \u001b[38;5;66;03m##In key[\"key\"] method if value not found it gives error. \u001b[39;00m\n\u001b[0;32m      3\u001b[0m details\u001b[38;5;241m=\u001b[39m{\u001b[38;5;124m\"\u001b[39m\u001b[38;5;124mname\u001b[39m\u001b[38;5;124m\"\u001b[39m:\u001b[38;5;124m\"\u001b[39m\u001b[38;5;124mharish\u001b[39m\u001b[38;5;124m\"\u001b[39m,\u001b[38;5;124m\"\u001b[39m\u001b[38;5;124mage\u001b[39m\u001b[38;5;124m\"\u001b[39m:\u001b[38;5;241m20\u001b[39m,\u001b[38;5;124m\"\u001b[39m\u001b[38;5;124mpercentage\u001b[39m\u001b[38;5;124m\"\u001b[39m:\u001b[38;5;241m90.1\u001b[39m}\n\u001b[1;32m----> 4\u001b[0m \u001b[38;5;28mprint\u001b[39m(details[\u001b[38;5;124m\"\u001b[39m\u001b[38;5;124msex\u001b[39m\u001b[38;5;124m\"\u001b[39m])\n",
      "\u001b[1;31mKeyError\u001b[0m: 'sex'"
     ]
    }
   ],
   "source": [
    "#.get()method\n",
    "\n",
    "##In key[\"key\"] method if the value is not found, it gives an error. \n",
    "\n",
    "details={\"name\":\"harish\",\"age\":20,\"percentage\":90.1}\n",
    "print(details[\"sex\"]) "
   ]
  },
  {
   "cell_type": "code",
   "execution_count": 56,
   "id": "cec9a4ad-0c91-441d-846a-0ea8bc67cb5f",
   "metadata": {},
   "outputs": [
    {
     "name": "stdout",
     "output_type": "stream",
     "text": [
      "None\n"
     ]
    }
   ],
   "source": [
    "##In .get() method if the value is not found it returns none\n",
    "details={\"name\":\"harish\",\"age\":20,\"percentage\":90.1}\n",
    "print(details.get(\"sex\")) "
   ]
  },
  {
   "cell_type": "code",
   "execution_count": 70,
   "id": "4e777135-92f4-4fcd-9613-1a3f696a529f",
   "metadata": {},
   "outputs": [
    {
     "name": "stdout",
     "output_type": "stream",
     "text": [
      "dict_keys(['name', 'age', 'percentage'])\n",
      "dict_values(['harish', 20, 90.1])\n",
      "dict_items([('name', 'harish'), ('age', 20), ('percentage', 90.1)])\n"
     ]
    }
   ],
   "source": [
    "#methods:-.keys(),.values(),.items()\n",
    "\n",
    "##.keys()\n",
    "### gives only keys\n",
    "details={\"name\":\"harish\",\"age\":20,\"percentage\":90.1}\n",
    "print(details.keys()) \n",
    "\n",
    "##.values()\n",
    "###gives only values\n",
    "details={\"name\":\"harish\",\"age\":20,\"percentage\":90.1}\n",
    "print(details.values())\n",
    "\n",
    "##.items()\n",
    "###gives both keys and values\n",
    "details={\"name\":\"harish\",\"age\":20,\"percentage\":90.1}\n",
    "print(details.items())"
   ]
  },
  {
   "cell_type": "code",
   "execution_count": 76,
   "id": "919a21c9-9858-4f52-863a-dc3cc36f45be",
   "metadata": {},
   "outputs": [
    {
     "name": "stdout",
     "output_type": "stream",
     "text": [
      "a\n"
     ]
    }
   ],
   "source": [
    "#Nested structure\n",
    "##List of dictionary,Dictionary of list\n",
    "\n",
    "#List of dictionary.\n",
    "## each list contains some dictionaries.\n",
    "## first access the list and then dict.\n",
    "list=[{1:\"a\",2:\"b\",3:\"c\",4:\"d\",5:\"e\"},\n",
    "       {6:\"f\",7:\"g\",8:\"h\",9:\"i\"}]\n",
    "print(list[0][1])"
   ]
  },
  {
   "cell_type": "code",
   "execution_count": 98,
   "id": "bb856927-85b0-4ba3-9e59-c4c65c91d0c0",
   "metadata": {},
   "outputs": [
    {
     "name": "stdout",
     "output_type": "stream",
     "text": [
      "2\n"
     ]
    }
   ],
   "source": [
    "#Dictionary of list\n",
    "## each dictonary contains some list\n",
    "## first access the dict and then list\n",
    "dictionary={ \"list1\":[1,2,3,4],\n",
    "             \"list2\":[5,6,7,] \n",
    "            }\n",
    "print(dictionary[\"list1\"][1])"
   ]
  }
 ],
 "metadata": {
  "kernelspec": {
   "display_name": "Python 3 (ipykernel)",
   "language": "python",
   "name": "python3"
  },
  "language_info": {
   "codemirror_mode": {
    "name": "ipython",
    "version": 3
   },
   "file_extension": ".py",
   "mimetype": "text/x-python",
   "name": "python",
   "nbconvert_exporter": "python",
   "pygments_lexer": "ipython3",
   "version": "3.12.7"
  }
 },
 "nbformat": 4,
 "nbformat_minor": 5
}
